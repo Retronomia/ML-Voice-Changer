{
 "cells": [
  {
   "cell_type": "code",
   "execution_count": 2,
   "id": "82628387",
   "metadata": {},
   "outputs": [
    {
     "name": "stderr",
     "output_type": "stream",
     "text": [
      "c:\\users\\irose\\appdata\\local\\programs\\python\\python38\\lib\\site-packages\\pydub\\utils.py:165: RuntimeWarning: Couldn't find ffmpeg or avconv - defaulting to ffmpeg, but may not work\n",
      "  warn(\"Couldn't find ffmpeg or avconv - defaulting to ffmpeg, but may not work\", RuntimeWarning)\n"
     ]
    },
    {
     "name": "stdout",
     "output_type": "stream",
     "text": [
      "\n",
      "        \n",
      " Extracting features gfcc, mfcc \n",
      "\n",
      "        \n",
      "\n",
      "Results saved in audio_features.json\n",
      "\n"
     ]
    }
   ],
   "source": [
    "from pyAudioProcessing.extract_features import get_features\n",
    "# Feature extraction\n",
    "features = get_features(\"data_samples/testing\", [\"gfcc\", \"mfcc\"])\n",
    "# features is a dictionary that will hold data of the following format\n",
    "\"\"\"\n",
    "{\n",
    "  subdir1_name: {file1_path: {\"features\": <list>, \"feature_names\": <list>}, ...},\n",
    "  subdir2_name: {file1_path: {\"features\": <list>, \"feature_names\": <list>}, ...},\n",
    "  ...\n",
    "}\n",
    "\"\"\"\n",
    "from pyAudioProcessing import utils\n",
    "utils.write_to_json(\"audio_features.json\",features)"
   ]
  },
  {
   "cell_type": "code",
   "execution_count": null,
   "id": "1b892f77",
   "metadata": {},
   "outputs": [],
   "source": []
  }
 ],
 "metadata": {
  "kernelspec": {
   "display_name": "Python 3 (ipykernel)",
   "language": "python",
   "name": "python3"
  },
  "language_info": {
   "codemirror_mode": {
    "name": "ipython",
    "version": 3
   },
   "file_extension": ".py",
   "mimetype": "text/x-python",
   "name": "python",
   "nbconvert_exporter": "python",
   "pygments_lexer": "ipython3",
   "version": "3.8.3"
  }
 },
 "nbformat": 4,
 "nbformat_minor": 5
}
