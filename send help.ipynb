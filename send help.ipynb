{
 "cells": [
  {
   "cell_type": "code",
   "execution_count": null,
   "id": "c62d6143",
   "metadata": {},
   "outputs": [],
   "source": [
    "#https://avdnoord.github.io/homepage/vqvae/\n",
    "#https://analyticsindiamag.com/guide-to-real-time-voice-cloning-neural-network-system-for-text-to-speech-synthesis/\n",
    "#https://huyenchip.com/2020/12/27/real-time-machine-learning.html#online_predictions_challenges"
   ]
  },
  {
   "cell_type": "code",
   "execution_count": 2,
   "id": "b7c1b630",
   "metadata": {},
   "outputs": [
    {
     "name": "stderr",
     "output_type": "stream",
     "text": [
      "c:\\users\\irose\\appdata\\local\\programs\\python\\python38\\lib\\site-packages\\pydub\\utils.py:165: RuntimeWarning: Couldn't find ffmpeg or avconv - defaulting to ffmpeg, but may not work\n",
      "  warn(\"Couldn't find ffmpeg or avconv - defaulting to ffmpeg, but may not work\", RuntimeWarning)\n"
     ]
    },
    {
     "name": "stdout",
     "output_type": "stream",
     "text": [
      "\n",
      "        \n",
      " Extracting features gfcc, mfcc \n",
      "\n",
      "        \n",
      "\n",
      "Results saved in audio_features.json\n",
      "\n"
     ]
    }
   ],
   "source": [
    "#librosa python?"
   ]
  },
  {
   "cell_type": "code",
   "execution_count": null,
   "id": "8657c1ee",
   "metadata": {},
   "outputs": [],
   "source": [
    "'''\n",
    "current idea: take two audio bits synced to say same words at same time\n",
    "and make ML model that can transfer whatever you call way of speaking\n",
    "e.g. train audio bits e.g. \"No ur mom\" so if someone makes the o sound between mom it will be converted to the way\n",
    "that the other speaker says the o sound'''"
   ]
  }
 ],
 "metadata": {
  "kernelspec": {
   "display_name": "Python 3 (ipykernel)",
   "language": "python",
   "name": "python3"
  },
  "language_info": {
   "codemirror_mode": {
    "name": "ipython",
    "version": 3
   },
   "file_extension": ".py",
   "mimetype": "text/x-python",
   "name": "python",
   "nbconvert_exporter": "python",
   "pygments_lexer": "ipython3",
   "version": "3.8.3"
  }
 },
 "nbformat": 4,
 "nbformat_minor": 5
}
