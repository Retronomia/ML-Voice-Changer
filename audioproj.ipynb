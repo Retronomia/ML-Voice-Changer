{
 "cells": [
  {
   "cell_type": "code",
   "execution_count": 2,
   "metadata": {},
   "outputs": [],
   "source": [
    "torch.cuda.is_available = lambda : False"
   ]
  },
  {
   "cell_type": "code",
   "execution_count": 3,
   "metadata": {},
   "outputs": [],
   "source": [
    "from scipy.io import wavfile\n",
    "import wave\n",
    "import numpy as np\n",
    "import torchaudio\n",
    "import os\n",
    "import pathlib\n",
    "import torch\n",
    "from torch.utils.data import TensorDataset, DataLoader\n",
    "import pyaudio\n",
    "from torchvision import transforms\n",
    "from math import ceil"
   ]
  },
  {
   "cell_type": "code",
   "execution_count": 4,
   "metadata": {},
   "outputs": [],
   "source": [
    "FORMAT = pyaudio.paInt16\n",
    "CHANNELS = 1\n",
    "RATE =  32000\n",
    "CHUNK = 1024\n",
    "device = torch.device(\"cuda\" if torch.cuda.is_available() else \"cpu\")"
   ]
  },
  {
   "cell_type": "code",
   "execution_count": 6,
   "metadata": {},
   "outputs": [],
   "source": [
    "class AudioDataset(torch.utils.data.Dataset):\n",
    "    def __init__(self,input_data,transform=None):\n",
    "        self.input_data = input_data\n",
    "        self.transform=transform\n",
    "\n",
    "    def __len__(self):\n",
    "        return len(self.input_data)\n",
    "\n",
    "    def __getitem__(self, index):\n",
    "        label = self.input_data[index][0]\n",
    "        audiochunk = self.input_data[index][1]\n",
    "        if self.transform:\n",
    "            audiochunk = self.transform(audiochunk)\n",
    "        return audiochunk,label"
   ]
  },
  {
   "cell_type": "code",
   "execution_count": 7,
   "metadata": {},
   "outputs": [],
   "source": [
    "def make_chunks_torch(audio_segment, chunk_length):\n",
    "    \"\"\"\n",
    "    Breaks an AudioSegment into chunks that are <chunk_length> milliseconds\n",
    "    long.\n",
    "    if chunk_length is 50 then you'll get a list of 50 millisecond long audio\n",
    "    segments back (except the last one, which can be shorter)\n",
    "    \"\"\"\n",
    "    number_of_chunks = ceil(audio_segment.shape[1] / float(chunk_length))\n",
    "    for i in range(int(number_of_chunks)):\n",
    "        yield audio_segment[0,i * chunk_length:(i + 1) * chunk_length]"
   ]
  },
  {
   "cell_type": "code",
   "execution_count": 10,
   "metadata": {},
   "outputs": [
    {
     "name": "stdout",
     "output_type": "stream",
     "text": [
      "Folder: 0-Ekko\n",
      "\tFiles: ['Ekko_Ban.ogg', 'Ekko_Original_MoveFirst_0.ogg', 'Ekko_Original_MoveFirst_1.ogg', 'Ekko_Original_MoveFirst_2.ogg', 'Ekko_Original_Move_0.ogg', 'Ekko_Original_Move_1.ogg', 'Ekko_Original_Move_10.ogg', 'Ekko_Original_Move_11.ogg', 'Ekko_Original_Move_12.ogg', 'Ekko_Original_Move_13.ogg', 'Ekko_Original_Move_14.ogg', 'Ekko_Original_Move_15.ogg', 'Ekko_Original_Move_16.ogg', 'Ekko_Original_Move_17.ogg', 'Ekko_Original_Move_18.ogg', 'Ekko_Original_Move_19.ogg', 'Ekko_Original_Move_2.ogg', 'Ekko_Original_Move_20.ogg', 'Ekko_Original_Move_21.ogg', 'Ekko_Original_Move_22.ogg', 'Ekko_Original_Move_23.ogg', 'Ekko_Original_Move_24.ogg', 'Ekko_Original_Move_3.ogg', 'Ekko_Original_Move_4.ogg', 'Ekko_Original_Move_5.ogg', 'Ekko_Original_Move_6.ogg', 'Ekko_Original_Move_7.ogg', 'Ekko_Original_Move_8.ogg', 'Ekko_Original_Move_9.ogg', 'Ekko_Select.ogg']\n",
      "Folder: 1-Kindred\n",
      "\tFiles: ['Kindred.attack01.wav', 'Kindred.attack02.wav', 'Kindred.attack03.wav', 'Kindred.attack04.wav', 'Kindred.attack06.wav', 'Kindred.attack07.wav', 'Kindred.attack08.wav', 'Kindred.itemBloodthirster02.wav', 'Kindred.itemBloodthirster03.wav', 'Kindred.itemBotRK01.wav', 'Kindred.itemInfinityEdge02.wav', 'Kindred.itemInfinityEdge03.wav', 'Kindred.itemLastWhisper01.wav', 'Kindred.itemLastWhisper03.wav', 'Kindred.mark05.wav', 'Kindred.mark06.wav', 'Kindred.mark08.wav', 'Kindred.mark12.wav', 'Kindred.mark14.wav', 'Kindred.mark17.wav', 'Kindred.mark20.wav', 'Kindred.markKill05.wav', 'Kindred.markKill09.wav', 'Kindred.markKill10.wav', 'Kindred.markKill14.wav', 'Kindred.markKill15.wav', 'Kindred.markKill17.wav', 'Kindred.markSteal05.wav', 'Kindred.move01.wav', 'Kindred.move02.wav', 'Kindred.move03.wav', 'Kindred.move04.wav', 'Kindred.move05a.wav', 'Kindred.move05b.wav', 'Kindred.move06a.wav', 'Kindred.move06b.wav', 'Kindred.move07.wav', 'Kindred.move08.wav', 'Kindred.move09.wav', 'Kindred.move20.wav', 'Kindred.move21.wav', 'Kindred.move22.wav', 'Kindred.move23.wav', 'Kindred.move24.wav', 'Kindred.move25.wav', 'Kindred.move26.wav', 'Kindred.move27.wav', 'Kindred.move28.wav', 'Kindred.move29a.wav', 'Kindred.move29b.wav', 'Kindred.move30.wav', 'Kindred.start01.wav', 'Kindred.start02.wav', 'Kindred.start03.wav', 'Kindred.start04.wav', 'Kindred.tauntEkko01a.wav', 'Kindred.tauntEkko01b.wav', 'Kindred.tauntKarthus01.wav', 'Kindred.tauntRengar02.wav', 'Kindred.tauntSion01.wav', 'Kindred.tauntSion02.wav', 'Kindred.tauntUnknown01.wav', 'Kindred.tauntUnknown03.wav', 'Kindred.unknown03.wav', 'Kindred.unknown05.wav', 'Kindred.unknown06.wav', 'Kindred.unknown07.wav', 'Kindred.W2.wav', 'VO_Kindred_arrival_interaction_ally_Irelia_Kindred_1_2.wav', 'VO_Kindred_arrival_interaction_ally_Kindred_Kalista_1_2.wav', 'VO_Kindred_arrival_interaction_ally_Kindred_Maokai_1_2.wav', 'VO_Kindred_arrival_interaction_ally_Kindred_Nasus_2_2.wav', 'VO_Kindred_arrival_interaction_ally_Kindred_Soulspinner_1_2.wav', 'VO_Kindred_arrival_interaction_enemy_Kindred_CommanderLedros_1_2.wav', 'VO_Kindred_spell_resolve_ally_NightyNight_02.wav', 'VO_Kindred_spell_resolve_ally_SpiritJourney_03.wav']\n"
     ]
    }
   ],
   "source": [
    "audio_data = []\n",
    "i=0\n",
    "\n",
    "sampleratecheck = 32000\n",
    "folder = 'Audio' #Assume this is where all audio folders are located. This folder is at same level as script.\n",
    "abspath = folder\n",
    "subfolders = os.listdir(abspath)\n",
    "for audiogroup in subfolders:\n",
    "    print(\"Folder:\",audiogroup)\n",
    "    files = os.listdir(os.path.join(abspath,audiogroup))\n",
    "    print(\"\\tFiles:\",files)\n",
    "    for file in files:\n",
    "        relpath = os.path.join(os.path.join(abspath,audiogroup),file)\n",
    "        #print(f\"\\t\\tLoading {relpath}\")\n",
    "        data,samplerate = torchaudio.load(relpath,normalize=False)\n",
    "        if sampleratecheck==None:\n",
    "            data = torchaudio.transforms.resample(samplerate,RATE)(data)\n",
    "        data = torch.mean(data,dim=0).unsqueeze(0)\n",
    "        data = torch.nn.functional.normalize(data)\n",
    "        #print(data.shape)\n",
    "        for chunk in make_chunks_torch(data,CHUNK):\n",
    "            torchdatachunk = torch.cat([chunk,torch.zeros(CHUNK-len(chunk))])\n",
    "            torchdatachunk = torch.reshape(torchdatachunk,(1,-1))\n",
    "            audio_data.append((i,torchdatachunk))\n",
    "        i+=1\n",
    "\n",
    "batch_size = 200\n",
    "train_ds = AudioDataset(audio_data)\n",
    "train_loader = DataLoader(train_ds, batch_size=batch_size,shuffle=True)"
   ]
  },
  {
   "cell_type": "code",
   "execution_count": null,
   "metadata": {},
   "outputs": [],
   "source": []
  }
 ],
 "metadata": {
  "kernelspec": {
   "display_name": "audioai",
   "language": "python",
   "name": "python3"
  },
  "language_info": {
   "codemirror_mode": {
    "name": "ipython",
    "version": 3
   },
   "file_extension": ".py",
   "mimetype": "text/x-python",
   "name": "python",
   "nbconvert_exporter": "python",
   "pygments_lexer": "ipython3",
   "version": "3.10.8"
  },
  "orig_nbformat": 4,
  "vscode": {
   "interpreter": {
    "hash": "d114753836da82ea0d103ead642379e3db626e7dc9bdd2212994dba5b69cfe4e"
   }
  }
 },
 "nbformat": 4,
 "nbformat_minor": 2
}
